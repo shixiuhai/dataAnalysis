{
 "cells": [
  {
   "cell_type": "markdown",
   "metadata": {},
   "source": [
    "### 数据来源：某企业销售的6种商品所对应的送货及用户反馈数据\n",
    "### 解决问题：\n",
    "##### 1、配送服务是否存在问题\n",
    "##### 2、是否存在尚有潜力的销售区域\n",
    "##### 3、商品是否存在质量问题\n",
    "\n",
    "### 先放结论：\n",
    "##### 1、货品4→西北，货品2→马来西亚两条线路存在较大问题，急需提升时效\n",
    "##### 2、货品2在华东地区还有较大市场空间，适合加大投入，同时货品2在西北配送时效长，用户拒收率高，从成本角度考虑，应该减少投入\n",
    "##### 3、货品1、2、4质量存在问题，建议扩大抽检范围，增大质检力度\n",
    "\n",
    "### 分析过程如下\n",
    "#### 一、数据清洗\n",
    "##### ① 重复值、缺失值、格式调整\n",
    "##### ② 异常值处理（比如：销售金额存在等于0的，数量和销售金额的标准差都在均值的8倍以上等）\n",
    "#### 二、数据规整\n",
    "##### 比如：增加一项辅助列：月份\n",
    "#### 三、数据分析并可视化"
   ]
  },
  {
   "cell_type": "code",
   "execution_count": 31,
   "metadata": {},
   "outputs": [],
   "source": [
    "import os\n",
    "import pandas as pd\n",
    "import numpy as np\n",
    "import matplotlib.pyplot as plt \n",
    "plt.rcParams['font.sans-serif'] = 'SimHei' ## 设置中文显示"
   ]
  }
 ],
 "metadata": {
  "kernelspec": {
   "display_name": "Python 3",
   "language": "python",
   "name": "python3"
  },
  "language_info": {
   "codemirror_mode": {
    "name": "ipython",
    "version": 3
   },
   "file_extension": ".py",
   "mimetype": "text/x-python",
   "name": "python",
   "nbconvert_exporter": "python",
   "pygments_lexer": "ipython3",
   "version": "3.7.6"
  }
 },
 "nbformat": 4,
 "nbformat_minor": 4
}
