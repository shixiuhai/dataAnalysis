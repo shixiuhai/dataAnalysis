{
 "cells": [
  {
   "cell_type": "code",
   "execution_count": 1,
   "metadata": {},
   "outputs": [
    {
     "name": "stdout",
     "output_type": "stream",
     "text": [
      "hello word\n"
     ]
    }
   ],
   "source": [
    "print(\"hello word\")"
   ]
  },
  {
   "cell_type": "code",
   "execution_count": null,
   "metadata": {},
   "outputs": [],
   "source": [
    "import requests\n",
    "a=requests.get(\"http://www.baidu.com\")\n",
    "print(a.text)"
   ]
  },
  {
   "cell_type": "code",
   "execution_count": 21,
   "metadata": {},
   "outputs": [
    {
     "ename": "NameError",
     "evalue": "name 'data' is not defined",
     "output_type": "error",
     "traceback": [
      "\u001b[1;31m---------------------------------------------------------------------------\u001b[0m",
      "\u001b[1;31mNameError\u001b[0m                                 Traceback (most recent call last)",
      "Cell \u001b[1;32mIn [21], line 8\u001b[0m\n\u001b[0;32m      3\u001b[0m \u001b[39mimport\u001b[39;00m \u001b[39mnumpy\u001b[39;00m \u001b[39mas\u001b[39;00m \u001b[39mnp\u001b[39;00m\n\u001b[0;32m      4\u001b[0m \u001b[39m# 1.加载数据\u001b[39;00m\n\u001b[0;32m      5\u001b[0m \u001b[39m# 2.数据预处理\u001b[39;00m\n\u001b[0;32m      6\u001b[0m \u001b[39m# 统计卖出菜品平局价格\u001b[39;00m\n\u001b[0;32m      7\u001b[0m \u001b[39m# pandas 默认方法\u001b[39;00m\n\u001b[1;32m----> 8\u001b[0m \u001b[39mround\u001b[39m(data[\u001b[39m'\u001b[39m\u001b[39mamounts\u001b[39m\u001b[39m'\u001b[39m]\u001b[39m.\u001b[39mmean(),\u001b[39m2\u001b[39m)\n\u001b[0;32m      9\u001b[0m \u001b[39mround\u001b[39m(np\u001b[39m.\u001b[39mmean(data[\u001b[39m'\u001b[39m\u001b[39mamounts\u001b[39m\u001b[39m'\u001b[39m]),\u001b[39m2\u001b[39m)\n\u001b[0;32m     10\u001b[0m \u001b[39m# \u001b[39;00m\n",
      "\u001b[1;31mNameError\u001b[0m: name 'data' is not defined"
     ]
    }
   ],
   "source": [
    "import pandas as pd\n",
    "import matplotlib.pyplot as plt\n",
    "import numpy as np\n",
    "# 1.加载数据\n",
    "# 2.数据预处理\n",
    "# 统计卖出菜品平局价格\n",
    "# pandas 默认方法\n",
    "round(data['amounts'].mean(),2)\n",
    "round(np.mean(data['amounts']),2)\n",
    "# "
   ]
  }
 ],
 "metadata": {
  "kernelspec": {
   "display_name": "Python 3.8.10 ('env': venv)",
   "language": "python",
   "name": "python3"
  },
  "language_info": {
   "codemirror_mode": {
    "name": "ipython",
    "version": 3
   },
   "file_extension": ".py",
   "mimetype": "text/x-python",
   "name": "python",
   "nbconvert_exporter": "python",
   "pygments_lexer": "ipython3",
   "version": "3.8.10"
  },
  "orig_nbformat": 4,
  "vscode": {
   "interpreter": {
    "hash": "ee7fecd0a23739fbccbdb877d90f534ced37a9d127061ca09afd586484917ebc"
   }
  }
 },
 "nbformat": 4,
 "nbformat_minor": 2
}
