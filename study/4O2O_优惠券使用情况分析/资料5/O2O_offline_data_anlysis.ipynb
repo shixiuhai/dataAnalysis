{
 "cells": [
  {
   "cell_type": "code",
   "execution_count": 112,
   "metadata": {},
   "outputs": [],
   "source": [
    "import numpy as np\n",
    "import pandas as pd\n",
    "import matplotlib.pyplot as plt\n",
    "import seaborn as sns  #绘图模块，基于matplotlib的可视化python包,不能完全替代matplotlib,只是对matplotlib进行升级\n",
    "plt.rcParams['font.sans-serif'] = ['SimHei']  # 用来正常显示中文标签\n",
    "plt.rcParams['axes.unicode_minus'] = False  # 用来正常显示负号\n",
    "%matplotlib inline\n",
    "\n",
    "#pip install seaborn"
   ]
  },
  {
   "cell_type": "markdown",
   "metadata": {},
   "source": [
    "## 1.加载数据"
   ]
  },
  {
   "cell_type": "code",
   "execution_count": 89,
   "metadata": {},
   "outputs": [
    {
     "name": "stdout",
     "output_type": "stream",
     "text": [
      "<class 'pandas.core.frame.DataFrame'>\n",
      "RangeIndex: 1754884 entries, 0 to 1754883\n",
      "Data columns (total 7 columns):\n",
      " #   Column         Dtype         \n",
      "---  ------         -----         \n",
      " 0   User_id        int64         \n",
      " 1   Merchant_id    int64         \n",
      " 2   Coupon_id      float64       \n",
      " 3   Discount_rate  object        \n",
      " 4   Distance       float64       \n",
      " 5   Date_received  datetime64[ns]\n",
      " 6   Date           datetime64[ns]\n",
      "dtypes: datetime64[ns](2), float64(2), int64(2), object(1)\n",
      "memory usage: 93.7+ MB\n"
     ]
    }
   ],
   "source": [
    "#parse_dates:将指定的列加载成日期的格式\n",
    "offline = pd.read_csv('ccf_offline_stage1_train.csv',parse_dates=['Date_received','Date'])\n",
    "offline.info()  #175+万条数据"
   ]
  },
  {
   "cell_type": "code",
   "execution_count": 90,
   "metadata": {},
   "outputs": [
    {
     "data": {
      "text/html": [
       "<div>\n",
       "<style scoped>\n",
       "    .dataframe tbody tr th:only-of-type {\n",
       "        vertical-align: middle;\n",
       "    }\n",
       "\n",
       "    .dataframe tbody tr th {\n",
       "        vertical-align: top;\n",
       "    }\n",
       "\n",
       "    .dataframe thead th {\n",
       "        text-align: right;\n",
       "    }\n",
       "</style>\n",
       "<table border=\"1\" class=\"dataframe\">\n",
       "  <thead>\n",
       "    <tr style=\"text-align: right;\">\n",
       "      <th></th>\n",
       "      <th>User_id</th>\n",
       "      <th>Merchant_id</th>\n",
       "      <th>Coupon_id</th>\n",
       "      <th>Discount_rate</th>\n",
       "      <th>Distance</th>\n",
       "      <th>Date_received</th>\n",
       "      <th>Date</th>\n",
       "    </tr>\n",
       "  </thead>\n",
       "  <tbody>\n",
       "    <tr>\n",
       "      <th>0</th>\n",
       "      <td>1439408</td>\n",
       "      <td>2632</td>\n",
       "      <td>NaN</td>\n",
       "      <td>NaN</td>\n",
       "      <td>0.0</td>\n",
       "      <td>NaT</td>\n",
       "      <td>2016-02-17</td>\n",
       "    </tr>\n",
       "    <tr>\n",
       "      <th>1</th>\n",
       "      <td>1439408</td>\n",
       "      <td>4663</td>\n",
       "      <td>11002.0</td>\n",
       "      <td>150:20</td>\n",
       "      <td>1.0</td>\n",
       "      <td>2016-05-28</td>\n",
       "      <td>NaT</td>\n",
       "    </tr>\n",
       "    <tr>\n",
       "      <th>2</th>\n",
       "      <td>1439408</td>\n",
       "      <td>2632</td>\n",
       "      <td>8591.0</td>\n",
       "      <td>20:1</td>\n",
       "      <td>0.0</td>\n",
       "      <td>2016-02-17</td>\n",
       "      <td>NaT</td>\n",
       "    </tr>\n",
       "    <tr>\n",
       "      <th>3</th>\n",
       "      <td>1439408</td>\n",
       "      <td>2632</td>\n",
       "      <td>1078.0</td>\n",
       "      <td>20:1</td>\n",
       "      <td>0.0</td>\n",
       "      <td>2016-03-19</td>\n",
       "      <td>NaT</td>\n",
       "    </tr>\n",
       "    <tr>\n",
       "      <th>4</th>\n",
       "      <td>1439408</td>\n",
       "      <td>2632</td>\n",
       "      <td>8591.0</td>\n",
       "      <td>20:1</td>\n",
       "      <td>0.0</td>\n",
       "      <td>2016-06-13</td>\n",
       "      <td>NaT</td>\n",
       "    </tr>\n",
       "    <tr>\n",
       "      <th>5</th>\n",
       "      <td>1439408</td>\n",
       "      <td>2632</td>\n",
       "      <td>NaN</td>\n",
       "      <td>NaN</td>\n",
       "      <td>0.0</td>\n",
       "      <td>NaT</td>\n",
       "      <td>2016-05-16</td>\n",
       "    </tr>\n",
       "    <tr>\n",
       "      <th>6</th>\n",
       "      <td>1439408</td>\n",
       "      <td>2632</td>\n",
       "      <td>8591.0</td>\n",
       "      <td>20:1</td>\n",
       "      <td>0.0</td>\n",
       "      <td>2016-05-16</td>\n",
       "      <td>2016-06-13</td>\n",
       "    </tr>\n",
       "    <tr>\n",
       "      <th>7</th>\n",
       "      <td>1832624</td>\n",
       "      <td>3381</td>\n",
       "      <td>7610.0</td>\n",
       "      <td>200:20</td>\n",
       "      <td>0.0</td>\n",
       "      <td>2016-04-29</td>\n",
       "      <td>NaT</td>\n",
       "    </tr>\n",
       "    <tr>\n",
       "      <th>8</th>\n",
       "      <td>2029232</td>\n",
       "      <td>3381</td>\n",
       "      <td>11951.0</td>\n",
       "      <td>200:20</td>\n",
       "      <td>1.0</td>\n",
       "      <td>2016-01-29</td>\n",
       "      <td>NaT</td>\n",
       "    </tr>\n",
       "    <tr>\n",
       "      <th>9</th>\n",
       "      <td>2029232</td>\n",
       "      <td>450</td>\n",
       "      <td>1532.0</td>\n",
       "      <td>30:5</td>\n",
       "      <td>0.0</td>\n",
       "      <td>2016-05-30</td>\n",
       "      <td>NaT</td>\n",
       "    </tr>\n",
       "  </tbody>\n",
       "</table>\n",
       "</div>"
      ],
      "text/plain": [
       "   User_id  Merchant_id  Coupon_id Discount_rate  Distance Date_received  \\\n",
       "0  1439408         2632        NaN           NaN       0.0           NaT   \n",
       "1  1439408         4663    11002.0        150:20       1.0    2016-05-28   \n",
       "2  1439408         2632     8591.0          20:1       0.0    2016-02-17   \n",
       "3  1439408         2632     1078.0          20:1       0.0    2016-03-19   \n",
       "4  1439408         2632     8591.0          20:1       0.0    2016-06-13   \n",
       "5  1439408         2632        NaN           NaN       0.0           NaT   \n",
       "6  1439408         2632     8591.0          20:1       0.0    2016-05-16   \n",
       "7  1832624         3381     7610.0        200:20       0.0    2016-04-29   \n",
       "8  2029232         3381    11951.0        200:20       1.0    2016-01-29   \n",
       "9  2029232          450     1532.0          30:5       0.0    2016-05-30   \n",
       "\n",
       "        Date  \n",
       "0 2016-02-17  \n",
       "1        NaT  \n",
       "2        NaT  \n",
       "3        NaT  \n",
       "4        NaT  \n",
       "5 2016-05-16  \n",
       "6 2016-06-13  \n",
       "7        NaT  \n",
       "8        NaT  \n",
       "9        NaT  "
      ]
     },
     "execution_count": 90,
     "metadata": {},
     "output_type": "execute_result"
    }
   ],
   "source": [
    "offline.head(10)   #NaT:时间日期格式的空值"
   ]
  },
  {
   "cell_type": "markdown",
   "metadata": {},
   "source": [
    "## 2.数据的规整"
   ]
  },
  {
   "cell_type": "code",
   "execution_count": 91,
   "metadata": {},
   "outputs": [
    {
     "data": {
      "text/plain": [
       "User_id               0\n",
       "Merchant_id           0\n",
       "Coupon_id        701602\n",
       "Discount_rate    701602\n",
       "Distance         106003\n",
       "Date_received    701602\n",
       "Date             977900\n",
       "dtype: int64"
      ]
     },
     "execution_count": 91,
     "metadata": {},
     "output_type": "execute_result"
    }
   ],
   "source": [
    "#判断每一列当中有多少个空值\n",
    "offline.isnull().sum()\n",
    "#优惠券id，折扣率，领券日期，三者可能存在同时==null的情况"
   ]
  },
  {
   "cell_type": "markdown",
   "metadata": {},
   "source": [
    "### 2.1把“Discount_rate”列中的满减政策转换成折扣率"
   ]
  },
  {
   "cell_type": "code",
   "execution_count": 92,
   "metadata": {},
   "outputs": [
    {
     "data": {
      "text/html": [
       "<div>\n",
       "<style scoped>\n",
       "    .dataframe tbody tr th:only-of-type {\n",
       "        vertical-align: middle;\n",
       "    }\n",
       "\n",
       "    .dataframe tbody tr th {\n",
       "        vertical-align: top;\n",
       "    }\n",
       "\n",
       "    .dataframe thead th {\n",
       "        text-align: right;\n",
       "    }\n",
       "</style>\n",
       "<table border=\"1\" class=\"dataframe\">\n",
       "  <thead>\n",
       "    <tr style=\"text-align: right;\">\n",
       "      <th></th>\n",
       "      <th>User_id</th>\n",
       "      <th>Merchant_id</th>\n",
       "      <th>Coupon_id</th>\n",
       "      <th>Discount_rate</th>\n",
       "      <th>Distance</th>\n",
       "      <th>Date_received</th>\n",
       "      <th>Date</th>\n",
       "    </tr>\n",
       "  </thead>\n",
       "  <tbody>\n",
       "    <tr>\n",
       "      <th>0</th>\n",
       "      <td>1439408</td>\n",
       "      <td>2632</td>\n",
       "      <td>NaN</td>\n",
       "      <td>null</td>\n",
       "      <td>0.0</td>\n",
       "      <td>NaT</td>\n",
       "      <td>2016-02-17</td>\n",
       "    </tr>\n",
       "    <tr>\n",
       "      <th>1</th>\n",
       "      <td>1439408</td>\n",
       "      <td>4663</td>\n",
       "      <td>11002.0</td>\n",
       "      <td>150:20</td>\n",
       "      <td>1.0</td>\n",
       "      <td>2016-05-28</td>\n",
       "      <td>NaT</td>\n",
       "    </tr>\n",
       "    <tr>\n",
       "      <th>2</th>\n",
       "      <td>1439408</td>\n",
       "      <td>2632</td>\n",
       "      <td>8591.0</td>\n",
       "      <td>20:1</td>\n",
       "      <td>0.0</td>\n",
       "      <td>2016-02-17</td>\n",
       "      <td>NaT</td>\n",
       "    </tr>\n",
       "    <tr>\n",
       "      <th>3</th>\n",
       "      <td>1439408</td>\n",
       "      <td>2632</td>\n",
       "      <td>1078.0</td>\n",
       "      <td>20:1</td>\n",
       "      <td>0.0</td>\n",
       "      <td>2016-03-19</td>\n",
       "      <td>NaT</td>\n",
       "    </tr>\n",
       "    <tr>\n",
       "      <th>4</th>\n",
       "      <td>1439408</td>\n",
       "      <td>2632</td>\n",
       "      <td>8591.0</td>\n",
       "      <td>20:1</td>\n",
       "      <td>0.0</td>\n",
       "      <td>2016-06-13</td>\n",
       "      <td>NaT</td>\n",
       "    </tr>\n",
       "  </tbody>\n",
       "</table>\n",
       "</div>"
      ],
      "text/plain": [
       "   User_id  Merchant_id  Coupon_id Discount_rate  Distance Date_received  \\\n",
       "0  1439408         2632        NaN          null       0.0           NaT   \n",
       "1  1439408         4663    11002.0        150:20       1.0    2016-05-28   \n",
       "2  1439408         2632     8591.0          20:1       0.0    2016-02-17   \n",
       "3  1439408         2632     1078.0          20:1       0.0    2016-03-19   \n",
       "4  1439408         2632     8591.0          20:1       0.0    2016-06-13   \n",
       "\n",
       "        Date  \n",
       "0 2016-02-17  \n",
       "1        NaT  \n",
       "2        NaT  \n",
       "3        NaT  \n",
       "4        NaT  "
      ]
     },
     "execution_count": 92,
     "metadata": {},
     "output_type": "execute_result"
    }
   ],
   "source": [
    "offline['Discount_rate'] = offline['Discount_rate'].fillna('null')\n",
    "offline.head()"
   ]
  },
  {
   "cell_type": "code",
   "execution_count": 93,
   "metadata": {},
   "outputs": [],
   "source": [
    "def discount_rate_opt(s): #s代表每一个元素\n",
    "    if ':' in s:\n",
    "        split = s.split(':')\n",
    "        discount_rate = (int(split[0]) - int(split[1]))/int(split[0])\n",
    "        return round(discount_rate,2)  #折扣率保留两位小数\n",
    "    elif s == 'null':\n",
    "        return np.NaN\n",
    "    else:\n",
    "        return float(s)"
   ]
  },
  {
   "cell_type": "code",
   "execution_count": 94,
   "metadata": {},
   "outputs": [
    {
     "data": {
      "text/html": [
       "<div>\n",
       "<style scoped>\n",
       "    .dataframe tbody tr th:only-of-type {\n",
       "        vertical-align: middle;\n",
       "    }\n",
       "\n",
       "    .dataframe tbody tr th {\n",
       "        vertical-align: top;\n",
       "    }\n",
       "\n",
       "    .dataframe thead th {\n",
       "        text-align: right;\n",
       "    }\n",
       "</style>\n",
       "<table border=\"1\" class=\"dataframe\">\n",
       "  <thead>\n",
       "    <tr style=\"text-align: right;\">\n",
       "      <th></th>\n",
       "      <th>User_id</th>\n",
       "      <th>Merchant_id</th>\n",
       "      <th>Coupon_id</th>\n",
       "      <th>Discount_rate</th>\n",
       "      <th>Distance</th>\n",
       "      <th>Date_received</th>\n",
       "      <th>Date</th>\n",
       "    </tr>\n",
       "  </thead>\n",
       "  <tbody>\n",
       "    <tr>\n",
       "      <th>0</th>\n",
       "      <td>1439408</td>\n",
       "      <td>2632</td>\n",
       "      <td>NaN</td>\n",
       "      <td>NaN</td>\n",
       "      <td>0.0</td>\n",
       "      <td>NaT</td>\n",
       "      <td>2016-02-17</td>\n",
       "    </tr>\n",
       "    <tr>\n",
       "      <th>1</th>\n",
       "      <td>1439408</td>\n",
       "      <td>4663</td>\n",
       "      <td>11002.0</td>\n",
       "      <td>0.87</td>\n",
       "      <td>1.0</td>\n",
       "      <td>2016-05-28</td>\n",
       "      <td>NaT</td>\n",
       "    </tr>\n",
       "    <tr>\n",
       "      <th>2</th>\n",
       "      <td>1439408</td>\n",
       "      <td>2632</td>\n",
       "      <td>8591.0</td>\n",
       "      <td>0.95</td>\n",
       "      <td>0.0</td>\n",
       "      <td>2016-02-17</td>\n",
       "      <td>NaT</td>\n",
       "    </tr>\n",
       "    <tr>\n",
       "      <th>3</th>\n",
       "      <td>1439408</td>\n",
       "      <td>2632</td>\n",
       "      <td>1078.0</td>\n",
       "      <td>0.95</td>\n",
       "      <td>0.0</td>\n",
       "      <td>2016-03-19</td>\n",
       "      <td>NaT</td>\n",
       "    </tr>\n",
       "    <tr>\n",
       "      <th>4</th>\n",
       "      <td>1439408</td>\n",
       "      <td>2632</td>\n",
       "      <td>8591.0</td>\n",
       "      <td>0.95</td>\n",
       "      <td>0.0</td>\n",
       "      <td>2016-06-13</td>\n",
       "      <td>NaT</td>\n",
       "    </tr>\n",
       "  </tbody>\n",
       "</table>\n",
       "</div>"
      ],
      "text/plain": [
       "   User_id  Merchant_id  Coupon_id  Discount_rate  Distance Date_received  \\\n",
       "0  1439408         2632        NaN            NaN       0.0           NaT   \n",
       "1  1439408         4663    11002.0           0.87       1.0    2016-05-28   \n",
       "2  1439408         2632     8591.0           0.95       0.0    2016-02-17   \n",
       "3  1439408         2632     1078.0           0.95       0.0    2016-03-19   \n",
       "4  1439408         2632     8591.0           0.95       0.0    2016-06-13   \n",
       "\n",
       "        Date  \n",
       "0 2016-02-17  \n",
       "1        NaT  \n",
       "2        NaT  \n",
       "3        NaT  \n",
       "4        NaT  "
      ]
     },
     "execution_count": 94,
     "metadata": {},
     "output_type": "execute_result"
    }
   ],
   "source": [
    "offline['Discount_rate']  = offline['Discount_rate'].map(discount_rate_opt)\n",
    "offline.head()"
   ]
  },
  {
   "cell_type": "markdown",
   "metadata": {},
   "source": [
    "### 2.2 Coupon_id字段：null代表无优惠券，此时Discount_rate与Date_received字段无意义。\n",
    "检查Coupon_id和Discount_rate与Date_received判断空值和非空值是否一一对应。"
   ]
  },
  {
   "cell_type": "code",
   "execution_count": 95,
   "metadata": {},
   "outputs": [
    {
     "data": {
      "text/plain": [
       "False"
      ]
     },
     "execution_count": 95,
     "metadata": {},
     "output_type": "execute_result"
    }
   ],
   "source": [
    "#np.all():判断一个课迭代数据中是否都为True，如果是返回True，否则返回False\n",
    "np.all([True,False,True])"
   ]
  },
  {
   "cell_type": "code",
   "execution_count": 96,
   "metadata": {},
   "outputs": [
    {
     "data": {
      "text/plain": [
       "True"
      ]
     },
     "execution_count": 96,
     "metadata": {},
     "output_type": "execute_result"
    }
   ],
   "source": [
    "nan1 = offline['Coupon_id'].isnull()  #判断优惠券是否为空\n",
    "nan2 = offline['Date_received'].isnull()   #判断领券日期是否为空\n",
    "np.all(nan1 == nan2)  #如果结果=true，说明之前的猜测：Coupon_id与Date_received空值与非空值是一一对应的关系"
   ]
  },
  {
   "cell_type": "code",
   "execution_count": 97,
   "metadata": {},
   "outputs": [
    {
     "data": {
      "text/plain": [
       "True"
      ]
     },
     "execution_count": 97,
     "metadata": {},
     "output_type": "execute_result"
    }
   ],
   "source": [
    "nan3 = offline['Discount_rate'].isnull()\n",
    "np.all(nan1 == nan3)#如果结果=true，说明之前的猜测：Coupon_id与Discount_rate空值与非空值是一一对应的关系"
   ]
  },
  {
   "cell_type": "markdown",
   "metadata": {},
   "source": [
    "### 2.3\n",
    "如果Date=null & Coupon_id!=null,有券未消费（cpon_no_consume）\n",
    "如果Date=null & Coupon_id =null,无券未消费（no_cpon_no_consume）\n",
    "如果Date！=null & Coupon_id=null,无券消费（no_cpon_consume）\n",
    "如果Date！=null & Coupon_id!=null,有券消费（cpon_consume）"
   ]
  },
  {
   "cell_type": "code",
   "execution_count": 98,
   "metadata": {},
   "outputs": [],
   "source": [
    "cpon_no_consume = offline[(offline['Date'].isnull() & offline['Coupon_id'].notnull())]\n",
    "no_cpon_no_consume = offline[(offline['Date'].isnull() & offline['Coupon_id'].isnull())]\n",
    "no_cpon_consume = offline[(offline['Date'].notnull() & offline['Coupon_id'].isnull())]\n",
    "cpon_consume = offline[(offline['Date'].notnull() & offline['Coupon_id'].notnull())]"
   ]
  },
  {
   "cell_type": "code",
   "execution_count": 99,
   "metadata": {},
   "outputs": [
    {
     "name": "stdout",
     "output_type": "stream",
     "text": [
      "有券未消费:977900\n",
      "无券未消费:0\n",
      "无券消费:701602\n",
      "有券消费:75382\n"
     ]
    }
   ],
   "source": [
    "print('有券未消费:{}'.format(len(cpon_no_consume)))\n",
    "print('无券未消费:{}'.format(len(no_cpon_no_consume)))  #无意义，不需分析\n",
    "print('无券消费:{}'.format(len(no_cpon_consume)))\n",
    "print('有券消费:{}'.format(len(cpon_consume)))\n",
    "#用优惠券消费的用7万，相比其他用户来说，占比较少"
   ]
  },
  {
   "cell_type": "markdown",
   "metadata": {},
   "source": [
    "## 3.数据分析\n"
   ]
  },
  {
   "cell_type": "code",
   "execution_count": 100,
   "metadata": {},
   "outputs": [
    {
     "data": {
      "text/plain": [
       "cpon_no_consume    977900\n",
       "no_cpon_consume    701602\n",
       "cpon_consume        75382\n",
       "dtype: int64"
      ]
     },
     "execution_count": 100,
     "metadata": {},
     "output_type": "execute_result"
    }
   ],
   "source": [
    "#绘制饼图占比\n",
    "consume_status_dict = {'cpon_no_consume':len(cpon_no_consume),'no_cpon_consume':len(no_cpon_consume),'cpon_consume':len(cpon_consume)}\n",
    "consume_status = pd.Series(consume_status_dict)\n",
    "consume_status"
   ]
  },
  {
   "cell_type": "code",
   "execution_count": 101,
   "metadata": {},
   "outputs": [
    {
     "data": {
      "text/plain": [
       "<matplotlib.legend.Legend at 0x23b8f74cf48>"
      ]
     },
     "execution_count": 101,
     "metadata": {},
     "output_type": "execute_result"
    },
    {
     "data": {
      "image/png": "[encoded data removed]",
      "text/plain": [
       "<Figure size 576x720 with 1 Axes>"
      ]
     },
     "metadata": {},
     "output_type": "display_data"
    }
   ],
   "source": [
    "#消费方式构成的饼图（figure：看作是一张画布，axes：代表画布内的多个坐标系）\n",
    "fig,ax=plt.subplots(1,1,figsize=(8,10))\n",
    "consume_status.plot.pie(ax = ax,\n",
    "                       autopct='%1.1f%%',\n",
    "                       shadow=True,\n",
    "                        explode=[0.02,0.05,0.2],\n",
    "                        textprops={'fontsize':15,'color':'blue'},\n",
    "                        wedgeprops={'linewidth':1,'edgecolor':'black'},\n",
    "                        labels=['有券未消费 \\n ({})'.format(len(cpon_no_consume)),\n",
    "                                '无券消费 \\n ({})'.format(len(no_cpon_consume)),\n",
    "                               '用券消费 \\n ({})'.format(len(cpon_consume))\n",
    "                               ]\n",
    "                       )\n",
    "ax.set_ylabel('')  #去除ylable\n",
    "ax.set_title('消费占比情况')\n",
    "plt.legend(labels=['有券未消费','无券消费','用券消费'])\n",
    "#有券未消费占比55.7%最大，说明大多数人拿完券之后，尚未使用\n",
    "#无圈消费用户占比40%，说明很多人没有使用优惠券，可能优惠券的吸引力不大，客户没在意；可能，新用户比较多。\n",
    "#用券消费用户占比较小4.3%,说明我们的优惠券使用率不高。可以考虑是不是加大优惠券力度....."
   ]
  },
  {
   "cell_type": "markdown",
   "metadata": {},
   "source": [
    "## 3.1在有券消费人群中，分析距离和优惠折扣"
   ]
  },
  {
   "cell_type": "code",
   "execution_count": 102,
   "metadata": {},
   "outputs": [
    {
     "data": {
      "text/plain": [
       "Merchant_id\n",
       "3       0.0\n",
       "4       0.0\n",
       "13      0.0\n",
       "14      0.0\n",
       "18      0.0\n",
       "       ... \n",
       "8806    0.0\n",
       "8824    0.0\n",
       "8828    0.0\n",
       "8849    0.0\n",
       "8856    0.0\n",
       "Name: Distance, Length: 1431, dtype: float64"
      ]
     },
     "execution_count": 102,
     "metadata": {},
     "output_type": "execute_result"
    }
   ],
   "source": [
    "#各商家对应的顾客到店平均距离\n",
    "Merchant_distance = cpon_consume.groupby('Merchant_id')['Distance'].mean()\n",
    "Merchant_distance[Merchant_distance==0]\n",
    "#有4076个商家，有1431个商家的用券消费用户平均范围在500米以内"
   ]
  },
  {
   "cell_type": "code",
   "execution_count": 106,
   "metadata": {},
   "outputs": [
    {
     "data": {
      "text/plain": [
       "Merchant_id\n",
       "3       0.670\n",
       "4       0.830\n",
       "5       0.750\n",
       "13      0.900\n",
       "14      0.830\n",
       "        ...  \n",
       "8844    0.895\n",
       "8849    0.950\n",
       "8850    0.950\n",
       "8852    0.950\n",
       "8856    0.925\n",
       "Name: Discount_rate, Length: 4076, dtype: float64"
      ]
     },
     "execution_count": 106,
     "metadata": {},
     "output_type": "execute_result"
    },
    {
     "data": {
      "image/png": "[encoded data removed]",
      "text/plain": [
       "<Figure size 432x288 with 1 Axes>"
      ]
     },
     "metadata": {
      "needs_background": "light"
     },
     "output_type": "display_data"
    }
   ],
   "source": [
    "#各商家对应的顾客到店消费平均折扣力度\n",
    "Merchant_discount_rate = cpon_consume.groupby('Merchant_id')['Discount_rate'].mean()\n",
    "Merchant_discount_rate.sort_values()\n",
    "Merchant_discount_rate.hist()\n",
    "Merchant_discount_rate.mean()  #所有商家平均折扣的平均值：0.88\n",
    "Merchant_discount_rate"
   ]
  },
  {
   "cell_type": "markdown",
   "metadata": {},
   "source": [
    "## 3.2持券到店消费人数最多的商家"
   ]
  },
  {
   "cell_type": "code",
   "execution_count": 108,
   "metadata": {},
   "outputs": [
    {
     "name": "stdout",
     "output_type": "stream",
     "text": [
      "16\n",
      "Merchant_id\n",
      "5341    2800\n",
      "760     2627\n",
      "3381    2248\n",
      "6485    2029\n",
      "2099    1401\n",
      "2934    1310\n",
      "450     1094\n",
      "3532     968\n",
      "7555     925\n",
      "1520     870\n",
      "6901     855\n",
      "3621     851\n",
      "4142     832\n",
      "1379     587\n",
      "1469     584\n",
      "1433     559\n",
      "Name: customer_count, dtype: int64\n"
     ]
    }
   ],
   "source": [
    "#对商家进行分组，取出用户id，对用户id进行去重统计数量、\n",
    "popular_merchant = cpon_consume.groupby('Merchant_id')['User_id'].apply(lambda x:len(x.unique())).sort_values(ascending=False)\n",
    "#找出持券消费人数>500的商家id\n",
    "popular_merchant500 = popular_merchant[popular_merchant>500]\n",
    "popular_merchant500.name = 'customer_count'  #指定列名为消费者数量（持券消费者）\n",
    "print(len(popular_merchant500))\n",
    "print(popular_merchant500)\n",
    "#共有16家店铺，持券消费人数在500人以上\n",
    "#持券消费人数最多商家是5341，持券消费人数在2800\n",
    "#排名最后的商家，持券消费人数未559人\n",
    "#这批商家对优惠券的使用方法得当，消费者喜欢用优惠券进行消费，可以适当借鉴这批商家的推广力度"
   ]
  },
  {
   "cell_type": "markdown",
   "metadata": {},
   "source": [
    "## 3.3持券消费人数在500人以上的商家，连接顾客到店平均距离和平均折扣力度"
   ]
  },
  {
   "cell_type": "code",
   "execution_count": 109,
   "metadata": {},
   "outputs": [
    {
     "data": {
      "text/html": [
       "<div>\n",
       "<style scoped>\n",
       "    .dataframe tbody tr th:only-of-type {\n",
       "        vertical-align: middle;\n",
       "    }\n",
       "\n",
       "    .dataframe tbody tr th {\n",
       "        vertical-align: top;\n",
       "    }\n",
       "\n",
       "    .dataframe thead th {\n",
       "        text-align: right;\n",
       "    }\n",
       "</style>\n",
       "<table border=\"1\" class=\"dataframe\">\n",
       "  <thead>\n",
       "    <tr style=\"text-align: right;\">\n",
       "      <th></th>\n",
       "      <th>customer_count</th>\n",
       "      <th>Distance</th>\n",
       "      <th>Discount_rate</th>\n",
       "    </tr>\n",
       "    <tr>\n",
       "      <th>Merchant_id</th>\n",
       "      <th></th>\n",
       "      <th></th>\n",
       "      <th></th>\n",
       "    </tr>\n",
       "  </thead>\n",
       "  <tbody>\n",
       "    <tr>\n",
       "      <th>5341</th>\n",
       "      <td>2800</td>\n",
       "      <td>0.168598</td>\n",
       "      <td>0.826036</td>\n",
       "    </tr>\n",
       "    <tr>\n",
       "      <th>760</th>\n",
       "      <td>2627</td>\n",
       "      <td>0.349866</td>\n",
       "      <td>0.799873</td>\n",
       "    </tr>\n",
       "    <tr>\n",
       "      <th>3381</th>\n",
       "      <td>2248</td>\n",
       "      <td>1.652429</td>\n",
       "      <td>0.744150</td>\n",
       "    </tr>\n",
       "    <tr>\n",
       "      <th>6485</th>\n",
       "      <td>2029</td>\n",
       "      <td>0.368567</td>\n",
       "      <td>0.770439</td>\n",
       "    </tr>\n",
       "    <tr>\n",
       "      <th>2099</th>\n",
       "      <td>1401</td>\n",
       "      <td>0.968072</td>\n",
       "      <td>0.900000</td>\n",
       "    </tr>\n",
       "    <tr>\n",
       "      <th>2934</th>\n",
       "      <td>1310</td>\n",
       "      <td>1.114833</td>\n",
       "      <td>0.830000</td>\n",
       "    </tr>\n",
       "    <tr>\n",
       "      <th>450</th>\n",
       "      <td>1094</td>\n",
       "      <td>0.892164</td>\n",
       "      <td>0.819274</td>\n",
       "    </tr>\n",
       "    <tr>\n",
       "      <th>3532</th>\n",
       "      <td>968</td>\n",
       "      <td>0.272498</td>\n",
       "      <td>0.852289</td>\n",
       "    </tr>\n",
       "    <tr>\n",
       "      <th>7555</th>\n",
       "      <td>925</td>\n",
       "      <td>1.329977</td>\n",
       "      <td>0.828381</td>\n",
       "    </tr>\n",
       "    <tr>\n",
       "      <th>1520</th>\n",
       "      <td>870</td>\n",
       "      <td>NaN</td>\n",
       "      <td>0.925632</td>\n",
       "    </tr>\n",
       "    <tr>\n",
       "      <th>6901</th>\n",
       "      <td>855</td>\n",
       "      <td>0.557895</td>\n",
       "      <td>0.834165</td>\n",
       "    </tr>\n",
       "    <tr>\n",
       "      <th>3621</th>\n",
       "      <td>851</td>\n",
       "      <td>0.472799</td>\n",
       "      <td>0.747565</td>\n",
       "    </tr>\n",
       "    <tr>\n",
       "      <th>4142</th>\n",
       "      <td>832</td>\n",
       "      <td>0.555882</td>\n",
       "      <td>0.900000</td>\n",
       "    </tr>\n",
       "    <tr>\n",
       "      <th>1379</th>\n",
       "      <td>587</td>\n",
       "      <td>0.706250</td>\n",
       "      <td>0.830096</td>\n",
       "    </tr>\n",
       "    <tr>\n",
       "      <th>1469</th>\n",
       "      <td>584</td>\n",
       "      <td>2.092800</td>\n",
       "      <td>0.721870</td>\n",
       "    </tr>\n",
       "    <tr>\n",
       "      <th>1433</th>\n",
       "      <td>559</td>\n",
       "      <td>1.054962</td>\n",
       "      <td>0.825959</td>\n",
       "    </tr>\n",
       "  </tbody>\n",
       "</table>\n",
       "</div>"
      ],
      "text/plain": [
       "             customer_count  Distance  Discount_rate\n",
       "Merchant_id                                         \n",
       "5341                   2800  0.168598       0.826036\n",
       "760                    2627  0.349866       0.799873\n",
       "3381                   2248  1.652429       0.744150\n",
       "6485                   2029  0.368567       0.770439\n",
       "2099                   1401  0.968072       0.900000\n",
       "2934                   1310  1.114833       0.830000\n",
       "450                    1094  0.892164       0.819274\n",
       "3532                    968  0.272498       0.852289\n",
       "7555                    925  1.329977       0.828381\n",
       "1520                    870       NaN       0.925632\n",
       "6901                    855  0.557895       0.834165\n",
       "3621                    851  0.472799       0.747565\n",
       "4142                    832  0.555882       0.900000\n",
       "1379                    587  0.706250       0.830096\n",
       "1469                    584  2.092800       0.721870\n",
       "1433                    559  1.054962       0.825959"
      ]
     },
     "execution_count": 109,
     "metadata": {},
     "output_type": "execute_result"
    }
   ],
   "source": [
    "merchant_pop_dis = pd.merge(left=popular_merchant500,right=Merchant_distance,on='Merchant_id',how='inner')\n",
    "merchant_pop_dis_rate = pd.merge(left=merchant_pop_dis,right=Merchant_discount_rate,on='Merchant_id',how='inner')\n",
    "merchant_pop_dis_rate"
   ]
  }
 ],
 "metadata": {
  "kernelspec": {
   "display_name": "Python 3",
   "language": "python",
   "name": "python3"
  },
  "language_info": {
   "codemirror_mode": {
    "name": "ipython",
    "version": 3
   },
   "file_extension": ".py",
   "mimetype": "text/x-python",
   "name": "python",
   "nbconvert_exporter": "python",
   "pygments_lexer": "ipython3",
   "version": "3.7.6"
  }
 },
 "nbformat": 4,
 "nbformat_minor": 4
}
